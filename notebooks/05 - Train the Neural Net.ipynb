{
 "cells": [
  {
   "cell_type": "code",
   "execution_count": 1,
   "metadata": {},
   "outputs": [],
   "source": [
    "import numpy as np\n",
    "import pandas as pd\n",
    "from sklearn.model_selection import train_test_split\n",
    "\n",
    "import matplotlib.pyplot as plt\n",
    "import seaborn as sns\n",
    "sns.set_style(\"darkgrid\")\n",
    "\n",
    "%matplotlib inline"
   ]
  },
  {
   "cell_type": "markdown",
   "metadata": {},
   "source": [
    "# Data preparation"
   ]
  },
  {
   "cell_type": "code",
   "execution_count": 2,
   "metadata": {},
   "outputs": [
    {
     "data": {
      "text/html": [
       "<div>\n",
       "<style scoped>\n",
       "    .dataframe tbody tr th:only-of-type {\n",
       "        vertical-align: middle;\n",
       "    }\n",
       "\n",
       "    .dataframe tbody tr th {\n",
       "        vertical-align: top;\n",
       "    }\n",
       "\n",
       "    .dataframe thead th {\n",
       "        text-align: right;\n",
       "    }\n",
       "</style>\n",
       "<table border=\"1\" class=\"dataframe\">\n",
       "  <thead>\n",
       "    <tr style=\"text-align: right;\">\n",
       "      <th></th>\n",
       "      <th>Id</th>\n",
       "      <th>sepal_length</th>\n",
       "      <th>sepal_width</th>\n",
       "      <th>petal_length</th>\n",
       "      <th>petal_width</th>\n",
       "      <th>species</th>\n",
       "    </tr>\n",
       "  </thead>\n",
       "  <tbody>\n",
       "    <tr>\n",
       "      <td>0</td>\n",
       "      <td>1</td>\n",
       "      <td>5.1</td>\n",
       "      <td>3.5</td>\n",
       "      <td>1.4</td>\n",
       "      <td>0.2</td>\n",
       "      <td>Iris-setosa</td>\n",
       "    </tr>\n",
       "    <tr>\n",
       "      <td>1</td>\n",
       "      <td>2</td>\n",
       "      <td>4.9</td>\n",
       "      <td>3.0</td>\n",
       "      <td>1.4</td>\n",
       "      <td>0.2</td>\n",
       "      <td>Iris-setosa</td>\n",
       "    </tr>\n",
       "    <tr>\n",
       "      <td>2</td>\n",
       "      <td>3</td>\n",
       "      <td>4.7</td>\n",
       "      <td>3.2</td>\n",
       "      <td>1.3</td>\n",
       "      <td>0.2</td>\n",
       "      <td>Iris-setosa</td>\n",
       "    </tr>\n",
       "    <tr>\n",
       "      <td>3</td>\n",
       "      <td>4</td>\n",
       "      <td>4.6</td>\n",
       "      <td>3.1</td>\n",
       "      <td>1.5</td>\n",
       "      <td>0.2</td>\n",
       "      <td>Iris-setosa</td>\n",
       "    </tr>\n",
       "    <tr>\n",
       "      <td>4</td>\n",
       "      <td>5</td>\n",
       "      <td>5.0</td>\n",
       "      <td>3.6</td>\n",
       "      <td>1.4</td>\n",
       "      <td>0.2</td>\n",
       "      <td>Iris-setosa</td>\n",
       "    </tr>\n",
       "  </tbody>\n",
       "</table>\n",
       "</div>"
      ],
      "text/plain": [
       "   Id  sepal_length  sepal_width  petal_length  petal_width      species\n",
       "0   1           5.1          3.5           1.4          0.2  Iris-setosa\n",
       "1   2           4.9          3.0           1.4          0.2  Iris-setosa\n",
       "2   3           4.7          3.2           1.3          0.2  Iris-setosa\n",
       "3   4           4.6          3.1           1.5          0.2  Iris-setosa\n",
       "4   5           5.0          3.6           1.4          0.2  Iris-setosa"
      ]
     },
     "execution_count": 2,
     "metadata": {},
     "output_type": "execute_result"
    }
   ],
   "source": [
    "df = pd.read_csv(\"../data/Iris.csv\")\n",
    "df.head()"
   ]
  },
  {
   "cell_type": "code",
   "execution_count": 3,
   "metadata": {},
   "outputs": [],
   "source": [
    "y = pd.get_dummies(df.species).values\n",
    "x = df.drop([\"Id\", \"species\"], axis=1).values\n",
    "\n",
    "x_train, x_test, y_train, y_test = train_test_split(x, y, test_size=20, random_state=4)"
   ]
  },
  {
   "cell_type": "markdown",
   "metadata": {},
   "source": [
    "# Helper Functions"
   ]
  },
  {
   "cell_type": "code",
   "execution_count": 4,
   "metadata": {},
   "outputs": [],
   "source": [
    "def sigmoid(x):\n",
    "    return 1 / (1 + np.exp(-x))\n",
    "\n",
    "def mean_squared_error(predictions, labels):\n",
    "    N = labels.size\n",
    "    mse = ((predictions - labels)**2).sum() / (2*N)\n",
    "    \n",
    "    return mse\n",
    "\n",
    "def accuracy(predictions, labels):\n",
    "    predicions_correct = predictions.argmax(axis=1) == labels.argmax(axis=1)\n",
    "    accuracy = predicions_correct.mean()\n",
    "    \n",
    "    return accuracy"
   ]
  },
  {
   "cell_type": "markdown",
   "metadata": {},
   "source": [
    "# Parameters"
   ]
  },
  {
   "cell_type": "code",
   "execution_count": 5,
   "metadata": {},
   "outputs": [],
   "source": [
    "learning_rate = 0.1\n",
    "epochs = 15000\n",
    "N = y_train.size\n",
    "\n",
    "n_input = 4\n",
    "n_hidden = 2\n",
    "n_output = 3"
   ]
  },
  {
   "cell_type": "code",
   "execution_count": 6,
   "metadata": {},
   "outputs": [],
   "source": [
    "np.random.seed(10)\n",
    "weights_1 = np.random.normal(scale=0.5, size=(n_input, n_hidden))   # (4, 2)\n",
    "weights_2 = np.random.normal(scale=0.5, size=(n_hidden, n_output))  # (2, 3)\n",
    "\n",
    "monitoring = {\"mean_squared_error\": [], \"accuracy\": []}"
   ]
  },
  {
   "cell_type": "markdown",
   "metadata": {},
   "source": [
    "# Feedforward and Backpropagation"
   ]
  },
  {
   "cell_type": "code",
   "execution_count": 7,
   "metadata": {},
   "outputs": [],
   "source": [
    "for epoch in range(epochs):    \n",
    "    \n",
    "    # feedforward\n",
    "    hidden_layer_inputs = np.dot(x_train, weights_1)\n",
    "    hidden_layer_outputs = sigmoid(hidden_layer_inputs)\n",
    "\n",
    "    output_layer_inputs = np.dot(hidden_layer_outputs, weights_2)\n",
    "    output_layer_outputs = sigmoid(output_layer_inputs)\n",
    "    \n",
    "    \n",
    "    # monitor training process\n",
    "    mse = mean_squared_error(output_layer_outputs, y_train)\n",
    "    acc = accuracy(output_layer_outputs, y_train)\n",
    "    \n",
    "    monitoring[\"mean_squared_error\"].append(mse)\n",
    "    monitoring[\"accuracy\"].append(acc)\n",
    "    \n",
    "    # backpropagation\n",
    "    output_layer_error = output_layer_outputs - y_train\n",
    "    output_layer_delta = output_layer_error * output_layer_outputs * (1 - output_layer_outputs)\n",
    "\n",
    "    hidden_layer_error = np.dot(output_layer_delta, weights_2.T)\n",
    "    hidden_layer_delta = hidden_layer_error * hidden_layer_outputs * (1 - hidden_layer_outputs)\n",
    "\n",
    "    \n",
    "    # weight updates\n",
    "    weights_2_update = np.dot(hidden_layer_outputs.T, output_layer_delta) / N\n",
    "    weights_1_update = np.dot(x_train.T, hidden_layer_delta) / N\n",
    "\n",
    "    weights_2 = weights_2 - learning_rate * weights_2_update\n",
    "    weights_1 = weights_1 - learning_rate * weights_1_update\n",
    "\n",
    "monitoring_df = pd.DataFrame(monitoring)"
   ]
  },
  {
   "cell_type": "code",
   "execution_count": 8,
   "metadata": {},
   "outputs": [
    {
     "data": {
      "image/png": "[encoded data removed]",
      "text/plain": [
       "<Figure size 1080x360 with 2 Axes>"
      ]
     },
     "metadata": {
      "needs_background": "light"
     },
     "output_type": "display_data"
    }
   ],
   "source": [
    "fig, axes = plt.subplots(1, 2, figsize=(15,5))\n",
    "\n",
    "monitoring_df.mean_squared_error.plot(ax=axes[0], title=\"Mean Squared Error\")\n",
    "monitoring_df.accuracy.plot(ax=axes[1], title=\"Accuracy\");"
   ]
  },
  {
   "cell_type": "markdown",
   "metadata": {},
   "source": [
    "# Test Data"
   ]
  },
  {
   "cell_type": "code",
   "execution_count": 9,
   "metadata": {},
   "outputs": [],
   "source": [
    "# feedforward\n",
    "hidden_layer_inputs = np.dot(x_test, weights_1)\n",
    "hidden_layer_outputs = sigmoid(hidden_layer_inputs)\n",
    "\n",
    "output_layer_inputs = np.dot(hidden_layer_outputs, weights_2)\n",
    "output_layer_outputs = sigmoid(output_layer_inputs)"
   ]
  },
  {
   "cell_type": "code",
   "execution_count": 10,
   "metadata": {},
   "outputs": [
    {
     "name": "stdout",
     "output_type": "stream",
     "text": [
      "Accuracy: 0.95\n"
     ]
    }
   ],
   "source": [
    "acc = accuracy(output_layer_outputs, y_test)\n",
    "print(\"Accuracy: {}\".format(acc))"
   ]
  },
  {
   "cell_type": "code",
   "execution_count": null,
   "metadata": {},
   "outputs": [],
   "source": []
  }
 ],
 "metadata": {
  "kernelspec": {
   "display_name": "Python 3",
   "language": "python",
   "name": "python3"
  },
  "language_info": {
   "codemirror_mode": {
    "name": "ipython",
    "version": 3
   },
   "file_extension": ".py",
   "mimetype": "text/x-python",
   "name": "python",
   "nbconvert_exporter": "python",
   "pygments_lexer": "ipython3",
   "version": "3.7.3"
  }
 },
 "nbformat": 4,
 "nbformat_minor": 4
}
