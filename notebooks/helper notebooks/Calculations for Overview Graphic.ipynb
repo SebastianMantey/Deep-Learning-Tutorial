{
 "cells": [
  {
   "cell_type": "code",
   "execution_count": 1,
   "metadata": {},
   "outputs": [],
   "source": [
    "import pandas as pd\n",
    "import numpy as np"
   ]
  },
  {
   "cell_type": "markdown",
   "metadata": {},
   "source": [
    "# Data preparation"
   ]
  },
  {
   "cell_type": "code",
   "execution_count": 2,
   "metadata": {},
   "outputs": [
    {
     "data": {
      "text/html": [
       "<div>\n",
       "<style scoped>\n",
       "    .dataframe tbody tr th:only-of-type {\n",
       "        vertical-align: middle;\n",
       "    }\n",
       "\n",
       "    .dataframe tbody tr th {\n",
       "        vertical-align: top;\n",
       "    }\n",
       "\n",
       "    .dataframe thead th {\n",
       "        text-align: right;\n",
       "    }\n",
       "</style>\n",
       "<table border=\"1\" class=\"dataframe\">\n",
       "  <thead>\n",
       "    <tr style=\"text-align: right;\">\n",
       "      <th></th>\n",
       "      <th>Id</th>\n",
       "      <th>sepal_length</th>\n",
       "      <th>sepal_width</th>\n",
       "      <th>petal_length</th>\n",
       "      <th>petal_width</th>\n",
       "      <th>species</th>\n",
       "    </tr>\n",
       "  </thead>\n",
       "  <tbody>\n",
       "    <tr>\n",
       "      <td>1</td>\n",
       "      <td>2</td>\n",
       "      <td>4.9</td>\n",
       "      <td>3.0</td>\n",
       "      <td>1.4</td>\n",
       "      <td>0.2</td>\n",
       "      <td>Iris-setosa</td>\n",
       "    </tr>\n",
       "    <tr>\n",
       "      <td>51</td>\n",
       "      <td>52</td>\n",
       "      <td>6.4</td>\n",
       "      <td>3.2</td>\n",
       "      <td>4.5</td>\n",
       "      <td>1.5</td>\n",
       "      <td>Iris-versicolor</td>\n",
       "    </tr>\n",
       "    <tr>\n",
       "      <td>101</td>\n",
       "      <td>102</td>\n",
       "      <td>5.8</td>\n",
       "      <td>2.7</td>\n",
       "      <td>5.1</td>\n",
       "      <td>1.9</td>\n",
       "      <td>Iris-virginica</td>\n",
       "    </tr>\n",
       "  </tbody>\n",
       "</table>\n",
       "</div>"
      ],
      "text/plain": [
       "      Id  sepal_length  sepal_width  petal_length  petal_width  \\\n",
       "1      2           4.9          3.0           1.4          0.2   \n",
       "51    52           6.4          3.2           4.5          1.5   \n",
       "101  102           5.8          2.7           5.1          1.9   \n",
       "\n",
       "             species  \n",
       "1        Iris-setosa  \n",
       "51   Iris-versicolor  \n",
       "101   Iris-virginica  "
      ]
     },
     "execution_count": 2,
     "metadata": {},
     "output_type": "execute_result"
    }
   ],
   "source": [
    "df = pd.read_csv(\"../../data/Iris.csv\")\n",
    "df = df.iloc[[1, 51, 101]]\n",
    "\n",
    "df.head()"
   ]
  },
  {
   "cell_type": "code",
   "execution_count": 3,
   "metadata": {},
   "outputs": [],
   "source": [
    "y = pd.get_dummies(df.species).values\n",
    "x = df.drop([\"Id\", \"species\"], axis=1).values"
   ]
  },
  {
   "cell_type": "code",
   "execution_count": 4,
   "metadata": {},
   "outputs": [
    {
     "name": "stdout",
     "output_type": "stream",
     "text": [
      "[[4.9 3.  1.4 0.2]\n",
      " [6.4 3.2 4.5 1.5]\n",
      " [5.8 2.7 5.1 1.9]]\n",
      "\n",
      "[[1 0 0]\n",
      " [0 1 0]\n",
      " [0 0 1]]\n"
     ]
    }
   ],
   "source": [
    "print(x)\n",
    "print()\n",
    "print(y)"
   ]
  },
  {
   "cell_type": "markdown",
   "metadata": {},
   "source": [
    "# Parameters"
   ]
  },
  {
   "cell_type": "code",
   "execution_count": 5,
   "metadata": {},
   "outputs": [],
   "source": [
    "def sigmoid(x):\n",
    "    return 1 / (1 + np.exp(-x))"
   ]
  },
  {
   "cell_type": "code",
   "execution_count": 6,
   "metadata": {},
   "outputs": [],
   "source": [
    "learning_rate = 0.1\n",
    "N = y.size\n",
    "\n",
    "n_input = 4\n",
    "n_hidden = 2\n",
    "n_output = 3"
   ]
  },
  {
   "cell_type": "code",
   "execution_count": 7,
   "metadata": {},
   "outputs": [],
   "source": [
    "np.random.seed(10)\n",
    "\n",
    "weights_1 = np.random.normal(scale=0.5, size=(n_input, n_hidden)).round(1)   # (4, 2)\n",
    "weights_2 = np.random.normal(scale=0.5, size=(n_hidden, n_output)).round(1)  # (2, 3)"
   ]
  },
  {
   "cell_type": "code",
   "execution_count": 8,
   "metadata": {},
   "outputs": [
    {
     "name": "stdout",
     "output_type": "stream",
     "text": [
      "[[ 0.7  0.4]\n",
      " [-0.8 -0. ]\n",
      " [ 0.3 -0.4]\n",
      " [ 0.1  0.1]]\n",
      "\n",
      "[[ 0.  -0.1  0.2]\n",
      " [ 0.6 -0.5  0.5]]\n"
     ]
    }
   ],
   "source": [
    "print(weights_1)\n",
    "print()\n",
    "print(weights_2)"
   ]
  },
  {
   "cell_type": "markdown",
   "metadata": {},
   "source": [
    "# Feedforward and Backpropagation"
   ]
  },
  {
   "cell_type": "code",
   "execution_count": 9,
   "metadata": {},
   "outputs": [],
   "source": [
    "# feedforward\n",
    "hidden_layer_in = np.dot(x, weights_1).round(2)\n",
    "hidden_layer_out = sigmoid(hidden_layer_in).round(2)\n",
    "\n",
    "output_layer_in = np.dot(hidden_layer_out, weights_2).round(2)\n",
    "output_layer_out = sigmoid(output_layer_in).round(2)\n",
    "\n",
    "# backpropagation\n",
    "output_error = (output_layer_out - y).round(2)\n",
    "output_delta = (output_error * output_layer_out * (1 - output_layer_out)).round(2)\n",
    "\n",
    "hidden_error = np.dot(output_delta, weights_2.T).round(3)\n",
    "hidden_delta = (hidden_error * hidden_layer_out * (1 - hidden_layer_out)).round(3)\n",
    "\n",
    "# weight updates\n",
    "weights_1_update = (np.dot(x.T, hidden_delta) / N).round(3)\n",
    "weights_2_update = (np.dot(hidden_layer_out.T, output_delta) / N).round(3)"
   ]
  },
  {
   "cell_type": "code",
   "execution_count": 10,
   "metadata": {},
   "outputs": [
    {
     "data": {
      "text/plain": [
       "0.13844444444444445"
      ]
     },
     "execution_count": 10,
     "metadata": {},
     "output_type": "execute_result"
    }
   ],
   "source": [
    "mse = ((output_layer_out - y)**2).sum() / (2*N)\n",
    "mse"
   ]
  },
  {
   "cell_type": "code",
   "execution_count": 11,
   "metadata": {},
   "outputs": [
    {
     "name": "stdout",
     "output_type": "stream",
     "text": [
      "[[1.47 1.42]\n",
      " [3.42 0.91]\n",
      " [3.62 0.47]]\n",
      "\n",
      "[[0.81 0.81]\n",
      " [0.97 0.71]\n",
      " [0.97 0.62]]\n",
      "\n",
      "[[ 0.49 -0.49  0.57]\n",
      " [ 0.43 -0.45  0.55]\n",
      " [ 0.37 -0.41  0.5 ]]\n",
      "\n",
      "[[0.62 0.38 0.64]\n",
      " [0.61 0.39 0.63]\n",
      " [0.59 0.4  0.62]]\n",
      "\n"
     ]
    }
   ],
   "source": [
    "print(hidden_layer_in)\n",
    "print()\n",
    "print(hidden_layer_out)\n",
    "print()\n",
    "\n",
    "print(output_layer_in)\n",
    "print()\n",
    "print(output_layer_out)\n",
    "print()"
   ]
  },
  {
   "cell_type": "code",
   "execution_count": 12,
   "metadata": {},
   "outputs": [
    {
     "name": "stdout",
     "output_type": "stream",
     "text": [
      "[[-0.38  0.38  0.64]\n",
      " [ 0.61 -0.61  0.63]\n",
      " [ 0.59  0.4  -0.38]]\n",
      "\n",
      "[[-0.09  0.09  0.15]\n",
      " [ 0.15 -0.15  0.15]\n",
      " [ 0.14  0.1  -0.09]]\n",
      "\n",
      "[[ 0.021 -0.024]\n",
      " [ 0.045  0.24 ]\n",
      " [-0.028 -0.011]]\n",
      "\n",
      "[[ 0.003 -0.004]\n",
      " [ 0.001  0.049]\n",
      " [-0.001 -0.003]]\n",
      "\n"
     ]
    }
   ],
   "source": [
    "print(output_error)\n",
    "print()\n",
    "print(output_delta)\n",
    "print()\n",
    "\n",
    "print(hidden_error)\n",
    "print()\n",
    "print(hidden_delta)\n",
    "print()"
   ]
  },
  {
   "cell_type": "code",
   "execution_count": 13,
   "metadata": {},
   "outputs": [
    {
     "name": "stdout",
     "output_type": "stream",
     "text": [
      "[[0.023 0.003 0.02 ]\n",
      " [0.013 0.003 0.019]]\n",
      "\n",
      "[[0.002 0.031]\n",
      " [0.001 0.015]\n",
      " [0.    0.022]\n",
      " [0.    0.007]]\n",
      "\n"
     ]
    }
   ],
   "source": [
    "print(weights_2_update)\n",
    "print()\n",
    "print(weights_1_update)\n",
    "print()"
   ]
  },
  {
   "cell_type": "code",
   "execution_count": null,
   "metadata": {},
   "outputs": [],
   "source": []
  }
 ],
 "metadata": {
  "kernelspec": {
   "display_name": "Python 3",
   "language": "python",
   "name": "python3"
  },
  "language_info": {
   "codemirror_mode": {
    "name": "ipython",
    "version": 3
   },
   "file_extension": ".py",
   "mimetype": "text/x-python",
   "name": "python",
   "nbconvert_exporter": "python",
   "pygments_lexer": "ipython3",
   "version": "3.7.3"
  }
 },
 "nbformat": 4,
 "nbformat_minor": 4
}
