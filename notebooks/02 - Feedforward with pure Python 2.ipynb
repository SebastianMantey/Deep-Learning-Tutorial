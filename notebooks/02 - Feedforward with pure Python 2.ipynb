{
 "cells": [
  {
   "cell_type": "code",
   "execution_count": 1,
   "metadata": {},
   "outputs": [],
   "source": [
    "import pandas as pd\n",
    "\n",
    "from IPython.display import Image\n",
    "from pprint import pprint"
   ]
  },
  {
   "cell_type": "markdown",
   "metadata": {},
   "source": [
    "# Load Data"
   ]
  },
  {
   "cell_type": "code",
   "execution_count": 2,
   "metadata": {},
   "outputs": [
    {
     "data": {
      "text/html": [
       "<div>\n",
       "<style scoped>\n",
       "    .dataframe tbody tr th:only-of-type {\n",
       "        vertical-align: middle;\n",
       "    }\n",
       "\n",
       "    .dataframe tbody tr th {\n",
       "        vertical-align: top;\n",
       "    }\n",
       "\n",
       "    .dataframe thead th {\n",
       "        text-align: right;\n",
       "    }\n",
       "</style>\n",
       "<table border=\"1\" class=\"dataframe\">\n",
       "  <thead>\n",
       "    <tr style=\"text-align: right;\">\n",
       "      <th></th>\n",
       "      <th>sepal_length</th>\n",
       "      <th>sepal_width</th>\n",
       "      <th>petal_length</th>\n",
       "      <th>petal_width</th>\n",
       "      <th>Iris-setosa</th>\n",
       "      <th>Iris-versicolor</th>\n",
       "      <th>Iris-virginica</th>\n",
       "    </tr>\n",
       "  </thead>\n",
       "  <tbody>\n",
       "    <tr>\n",
       "      <td>1</td>\n",
       "      <td>4.9</td>\n",
       "      <td>3.0</td>\n",
       "      <td>1.4</td>\n",
       "      <td>0.2</td>\n",
       "      <td>1</td>\n",
       "      <td>0</td>\n",
       "      <td>0</td>\n",
       "    </tr>\n",
       "    <tr>\n",
       "      <td>51</td>\n",
       "      <td>6.4</td>\n",
       "      <td>3.2</td>\n",
       "      <td>4.5</td>\n",
       "      <td>1.5</td>\n",
       "      <td>0</td>\n",
       "      <td>1</td>\n",
       "      <td>0</td>\n",
       "    </tr>\n",
       "    <tr>\n",
       "      <td>101</td>\n",
       "      <td>5.8</td>\n",
       "      <td>2.7</td>\n",
       "      <td>5.1</td>\n",
       "      <td>1.9</td>\n",
       "      <td>0</td>\n",
       "      <td>0</td>\n",
       "      <td>1</td>\n",
       "    </tr>\n",
       "  </tbody>\n",
       "</table>\n",
       "</div>"
      ],
      "text/plain": [
       "     sepal_length  sepal_width  petal_length  petal_width  Iris-setosa  \\\n",
       "1             4.9          3.0           1.4          0.2            1   \n",
       "51            6.4          3.2           4.5          1.5            0   \n",
       "101           5.8          2.7           5.1          1.9            0   \n",
       "\n",
       "     Iris-versicolor  Iris-virginica  \n",
       "1                  0               0  \n",
       "51                 1               0  \n",
       "101                0               1  "
      ]
     },
     "execution_count": 2,
     "metadata": {},
     "output_type": "execute_result"
    }
   ],
   "source": [
    "# load data\n",
    "df = pd.read_csv(\"../data/Iris.csv\")\n",
    "\n",
    "# one-hot encoding\n",
    "species_one_hot = pd.get_dummies(df.species)\n",
    "df = df.join(species_one_hot)\n",
    "df = df.drop([\"Id\", \"species\"], axis=1)\n",
    "\n",
    "df.loc[[1, 51, 101]]"
   ]
  },
  {
   "cell_type": "markdown",
   "metadata": {},
   "source": [
    "# Output of one Neuron"
   ]
  },
  {
   "cell_type": "code",
   "execution_count": 3,
   "metadata": {},
   "outputs": [
    {
     "data": {
      "image/png": "[encoded data removed]",
      "text/plain": [
       "<IPython.core.display.Image object>"
      ]
     },
     "execution_count": 3,
     "metadata": {
      "image/png": {
       "width": 400
      }
     },
     "output_type": "execute_result"
    }
   ],
   "source": [
    "Image(\"../images/artificial_neuron.png\", width=400)"
   ]
  },
  {
   "cell_type": "code",
   "execution_count": 4,
   "metadata": {},
   "outputs": [],
   "source": [
    "inputs =  [4.9, 3.0,  1.4,  0.2]\n",
    "weights = [0.9, 0.8, -1.0, -1.0]"
   ]
  },
  {
   "cell_type": "code",
   "execution_count": 5,
   "metadata": {},
   "outputs": [],
   "source": [
    "def weighted_sum(inputs, weights):\n",
    "    total = 0\n",
    "    for input_value, weight in zip(inputs, weights):\n",
    "        total += input_value * weight\n",
    "        \n",
    "    return total"
   ]
  },
  {
   "cell_type": "code",
   "execution_count": 6,
   "metadata": {},
   "outputs": [],
   "source": [
    "def step_function(number):\n",
    "    if number >= 2:\n",
    "        return 1\n",
    "    else:\n",
    "        return 0"
   ]
  },
  {
   "cell_type": "code",
   "execution_count": 7,
   "metadata": {},
   "outputs": [
    {
     "name": "stdout",
     "output_type": "stream",
     "text": [
      "5.21\n"
     ]
    },
    {
     "data": {
      "text/plain": [
       "1"
      ]
     },
     "execution_count": 7,
     "metadata": {},
     "output_type": "execute_result"
    }
   ],
   "source": [
    "node_input = weighted_sum(inputs, weights)\n",
    "print(node_input)\n",
    "\n",
    "node_output = step_function(node_input)\n",
    "node_output"
   ]
  },
  {
   "cell_type": "markdown",
   "metadata": {},
   "source": [
    "# Output of the Neural Network"
   ]
  },
  {
   "cell_type": "code",
   "execution_count": 8,
   "metadata": {},
   "outputs": [
    {
     "data": {
      "image/png": "[encoded data removed]",
      "text/plain": [
       "<IPython.core.display.Image object>"
      ]
     },
     "execution_count": 8,
     "metadata": {
      "image/png": {
       "width": 400
      }
     },
     "output_type": "execute_result"
    }
   ],
   "source": [
    "Image(\"../images/neural_net.png\", width=400)"
   ]
  },
  {
   "cell_type": "code",
   "execution_count": 9,
   "metadata": {},
   "outputs": [],
   "source": [
    "inputs = [[4.9, 3.0, 1.4, 0.2],\n",
    "          [6.4, 3.2, 4.5, 1.5],\n",
    "          [5.8, 2.7, 5.1, 1.9]]\n",
    "\n",
    "weights_1 = [[ 0.9,  0.8, -1.0, -1.0],\n",
    "             [-0.5, -0.5,  1.5,  1.0]]\n",
    "\n",
    "weights_2 = [[ 2.0, -1.0],\n",
    "             [ 1.0,  1.0],\n",
    "             [-1.0,  2.0]]"
   ]
  },
  {
   "cell_type": "code",
   "execution_count": 10,
   "metadata": {},
   "outputs": [],
   "source": [
    "def determine_layer_outputs(list_of_inputs, list_of_weights, activation_function=True):\n",
    "    layer_outputs = []\n",
    "    for inputs in list_of_inputs:\n",
    "        \n",
    "        node_outputs = []\n",
    "        for weights in list_of_weights:\n",
    "            node_input = weighted_sum(inputs, weights)\n",
    "            if activation_function:\n",
    "                node_output = step_function(node_input)\n",
    "            else:\n",
    "                node_output = node_input\n",
    "            node_outputs.append(node_output)\n",
    "            \n",
    "        layer_outputs.append(node_outputs)\n",
    "    \n",
    "    return layer_outputs"
   ]
  },
  {
   "cell_type": "code",
   "execution_count": 11,
   "metadata": {},
   "outputs": [
    {
     "name": "stdout",
     "output_type": "stream",
     "text": [
      "[[5.21, -1.6500000000000006],\n",
      " [2.3200000000000003, 3.4499999999999993],\n",
      " [0.38000000000000034, 5.299999999999999]]\n",
      "\n",
      "[[1, 0],\n",
      " [1, 1],\n",
      " [0, 1]]\n"
     ]
    }
   ],
   "source": [
    "hidden_layer_inputs = determine_layer_outputs(inputs, weights_1, activation_function=False)\n",
    "pprint(hidden_layer_inputs)\n",
    "\n",
    "print()\n",
    "\n",
    "hidden_layer_outputs = determine_layer_outputs(inputs, weights_1)\n",
    "pprint(hidden_layer_outputs, width=10)"
   ]
  },
  {
   "cell_type": "code",
   "execution_count": 12,
   "metadata": {},
   "outputs": [
    {
     "name": "stdout",
     "output_type": "stream",
     "text": [
      "[[2.0, 1.0, -1.0],\n",
      " [1.0, 2.0, 1.0],\n",
      " [-1.0, 1.0, 2.0]]\n",
      "\n",
      "[[1, 0, 0],\n",
      " [0, 1, 0],\n",
      " [0, 0, 1]]\n"
     ]
    }
   ],
   "source": [
    "output_layer_inputs = determine_layer_outputs(hidden_layer_outputs, weights_2, activation_function=False)\n",
    "pprint(output_layer_inputs, width=20)\n",
    "\n",
    "print()\n",
    "\n",
    "output_layer_outputs = determine_layer_outputs(hidden_layer_outputs, weights_2)\n",
    "pprint(output_layer_outputs, width=20)"
   ]
  },
  {
   "cell_type": "code",
   "execution_count": 13,
   "metadata": {},
   "outputs": [
    {
     "data": {
      "text/html": [
       "<div>\n",
       "<style scoped>\n",
       "    .dataframe tbody tr th:only-of-type {\n",
       "        vertical-align: middle;\n",
       "    }\n",
       "\n",
       "    .dataframe tbody tr th {\n",
       "        vertical-align: top;\n",
       "    }\n",
       "\n",
       "    .dataframe thead th {\n",
       "        text-align: right;\n",
       "    }\n",
       "</style>\n",
       "<table border=\"1\" class=\"dataframe\">\n",
       "  <thead>\n",
       "    <tr style=\"text-align: right;\">\n",
       "      <th></th>\n",
       "      <th>sepal_length</th>\n",
       "      <th>sepal_width</th>\n",
       "      <th>petal_length</th>\n",
       "      <th>petal_width</th>\n",
       "      <th>Iris-setosa</th>\n",
       "      <th>Iris-versicolor</th>\n",
       "      <th>Iris-virginica</th>\n",
       "    </tr>\n",
       "  </thead>\n",
       "  <tbody>\n",
       "    <tr>\n",
       "      <td>1</td>\n",
       "      <td>4.9</td>\n",
       "      <td>3.0</td>\n",
       "      <td>1.4</td>\n",
       "      <td>0.2</td>\n",
       "      <td>1</td>\n",
       "      <td>0</td>\n",
       "      <td>0</td>\n",
       "    </tr>\n",
       "    <tr>\n",
       "      <td>51</td>\n",
       "      <td>6.4</td>\n",
       "      <td>3.2</td>\n",
       "      <td>4.5</td>\n",
       "      <td>1.5</td>\n",
       "      <td>0</td>\n",
       "      <td>1</td>\n",
       "      <td>0</td>\n",
       "    </tr>\n",
       "    <tr>\n",
       "      <td>101</td>\n",
       "      <td>5.8</td>\n",
       "      <td>2.7</td>\n",
       "      <td>5.1</td>\n",
       "      <td>1.9</td>\n",
       "      <td>0</td>\n",
       "      <td>0</td>\n",
       "      <td>1</td>\n",
       "    </tr>\n",
       "  </tbody>\n",
       "</table>\n",
       "</div>"
      ],
      "text/plain": [
       "     sepal_length  sepal_width  petal_length  petal_width  Iris-setosa  \\\n",
       "1             4.9          3.0           1.4          0.2            1   \n",
       "51            6.4          3.2           4.5          1.5            0   \n",
       "101           5.8          2.7           5.1          1.9            0   \n",
       "\n",
       "     Iris-versicolor  Iris-virginica  \n",
       "1                  0               0  \n",
       "51                 1               0  \n",
       "101                0               1  "
      ]
     },
     "execution_count": 13,
     "metadata": {},
     "output_type": "execute_result"
    }
   ],
   "source": [
    "df.loc[[1, 51, 101]]"
   ]
  },
  {
   "cell_type": "code",
   "execution_count": null,
   "metadata": {},
   "outputs": [],
   "source": []
  }
 ],
 "metadata": {
  "kernelspec": {
   "display_name": "Python 3",
   "language": "python",
   "name": "python3"
  },
  "language_info": {
   "codemirror_mode": {
    "name": "ipython",
    "version": 3
   },
   "file_extension": ".py",
   "mimetype": "text/x-python",
   "name": "python",
   "nbconvert_exporter": "python",
   "pygments_lexer": "ipython3",
   "version": "3.7.3"
  }
 },
 "nbformat": 4,
 "nbformat_minor": 4
}
